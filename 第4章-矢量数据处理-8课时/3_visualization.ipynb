{
 "cells": [
  {
   "cell_type": "markdown",
   "metadata": {},
   "source": [
    "## **利用geopandas进行矢量数据快速读、写、及可视化.**"
   ]
  },
  {
   "cell_type": "code",
   "execution_count": 55,
   "metadata": {},
   "outputs": [],
   "source": [
    "import geopandas as gpd\n",
    "import matplotlib.pyplot as plt\n",
    "import numpy as np\n"
   ]
  },
  {
   "cell_type": "code",
   "execution_count": 4,
   "metadata": {},
   "outputs": [],
   "source": [
    "path_kunming = 'data/昆明市行政边界(poi86.com)/昆明市边界_wgs84.shp'\n",
    "path_kunming_out_1 = 'data/Section_4/vector_out_1.shp'\n",
    "path_kunming_out_2 = 'data/Section_4/vector_out_2.shp'\n",
    "\n"
   ]
  },
  {
   "cell_type": "markdown",
   "metadata": {},
   "source": [
    "### 1. 读入矢量数据"
   ]
  },
  {
   "cell_type": "code",
   "execution_count": 20,
   "metadata": {},
   "outputs": [
    {
     "data": {
      "text/html": [
       "<div>\n",
       "<style scoped>\n",
       "    .dataframe tbody tr th:only-of-type {\n",
       "        vertical-align: middle;\n",
       "    }\n",
       "\n",
       "    .dataframe tbody tr th {\n",
       "        vertical-align: top;\n",
       "    }\n",
       "\n",
       "    .dataframe thead th {\n",
       "        text-align: right;\n",
       "    }\n",
       "</style>\n",
       "<table border=\"1\" class=\"dataframe\">\n",
       "  <thead>\n",
       "    <tr style=\"text-align: right;\">\n",
       "      <th></th>\n",
       "      <th>fid</th>\n",
       "      <th>name</th>\n",
       "      <th>site</th>\n",
       "      <th>geometry</th>\n",
       "    </tr>\n",
       "  </thead>\n",
       "  <tbody>\n",
       "    <tr>\n",
       "      <th>0</th>\n",
       "      <td>1.0</td>\n",
       "      <td>昆明市</td>\n",
       "      <td>www.poi86.com</td>\n",
       "      <td>POLYGON ((102.23502 26.18850, 102.23516 26.188...</td>\n",
       "    </tr>\n",
       "    <tr>\n",
       "      <th>1</th>\n",
       "      <td>2.0</td>\n",
       "      <td>五华区</td>\n",
       "      <td>www.poi86.com</td>\n",
       "      <td>MULTIPOLYGON (((102.69718 25.38032, 102.69726 ...</td>\n",
       "    </tr>\n",
       "    <tr>\n",
       "      <th>2</th>\n",
       "      <td>3.0</td>\n",
       "      <td>盘龙区</td>\n",
       "      <td>www.poi86.com</td>\n",
       "      <td>POLYGON ((102.95160 25.25580, 102.94017 25.257...</td>\n",
       "    </tr>\n",
       "    <tr>\n",
       "      <th>3</th>\n",
       "      <td>4.0</td>\n",
       "      <td>官渡区</td>\n",
       "      <td>www.poi86.com</td>\n",
       "      <td>POLYGON ((102.71572 25.03637, 102.71646 25.036...</td>\n",
       "    </tr>\n",
       "    <tr>\n",
       "      <th>4</th>\n",
       "      <td>5.0</td>\n",
       "      <td>西山区</td>\n",
       "      <td>www.poi86.com</td>\n",
       "      <td>MULTIPOLYGON (((102.55894 25.16249, 102.58745 ...</td>\n",
       "    </tr>\n",
       "    <tr>\n",
       "      <th>5</th>\n",
       "      <td>6.0</td>\n",
       "      <td>东川区</td>\n",
       "      <td>www.poi86.com</td>\n",
       "      <td>POLYGON ((102.80190 26.30640, 102.80388 26.306...</td>\n",
       "    </tr>\n",
       "    <tr>\n",
       "      <th>6</th>\n",
       "      <td>7.0</td>\n",
       "      <td>呈贡区</td>\n",
       "      <td>www.poi86.com</td>\n",
       "      <td>POLYGON ((102.85182 24.70104, 102.85030 24.701...</td>\n",
       "    </tr>\n",
       "    <tr>\n",
       "      <th>7</th>\n",
       "      <td>8.0</td>\n",
       "      <td>晋宁区</td>\n",
       "      <td>www.poi86.com</td>\n",
       "      <td>POLYGON ((102.73831 24.82029, 102.73989 24.818...</td>\n",
       "    </tr>\n",
       "    <tr>\n",
       "      <th>8</th>\n",
       "      <td>9.0</td>\n",
       "      <td>富民县</td>\n",
       "      <td>www.poi86.com</td>\n",
       "      <td>MULTIPOLYGON (((102.63295 25.37092, 102.63640 ...</td>\n",
       "    </tr>\n",
       "    <tr>\n",
       "      <th>9</th>\n",
       "      <td>10.0</td>\n",
       "      <td>宜良县</td>\n",
       "      <td>www.poi86.com</td>\n",
       "      <td>POLYGON ((103.27194 25.26078, 103.27147 25.258...</td>\n",
       "    </tr>\n",
       "  </tbody>\n",
       "</table>\n",
       "</div>"
      ],
      "text/plain": [
       "    fid name           site                                           geometry\n",
       "0   1.0  昆明市  www.poi86.com  POLYGON ((102.23502 26.18850, 102.23516 26.188...\n",
       "1   2.0  五华区  www.poi86.com  MULTIPOLYGON (((102.69718 25.38032, 102.69726 ...\n",
       "2   3.0  盘龙区  www.poi86.com  POLYGON ((102.95160 25.25580, 102.94017 25.257...\n",
       "3   4.0  官渡区  www.poi86.com  POLYGON ((102.71572 25.03637, 102.71646 25.036...\n",
       "4   5.0  西山区  www.poi86.com  MULTIPOLYGON (((102.55894 25.16249, 102.58745 ...\n",
       "5   6.0  东川区  www.poi86.com  POLYGON ((102.80190 26.30640, 102.80388 26.306...\n",
       "6   7.0  呈贡区  www.poi86.com  POLYGON ((102.85182 24.70104, 102.85030 24.701...\n",
       "7   8.0  晋宁区  www.poi86.com  POLYGON ((102.73831 24.82029, 102.73989 24.818...\n",
       "8   9.0  富民县  www.poi86.com  MULTIPOLYGON (((102.63295 25.37092, 102.63640 ...\n",
       "9  10.0  宜良县  www.poi86.com  POLYGON ((103.27194 25.26078, 103.27147 25.258..."
      ]
     },
     "execution_count": 20,
     "metadata": {},
     "output_type": "execute_result"
    }
   ],
   "source": [
    "kunming_gpd = gpd.read_file(path_kunming)\n",
    "kunming_gpd.head(10)"
   ]
  },
  {
   "cell_type": "markdown",
   "metadata": {},
   "source": [
    "### 2. 可视化矢量数据"
   ]
  },
  {
   "cell_type": "code",
   "execution_count": 47,
   "metadata": {},
   "outputs": [
    {
     "data": {
      "text/plain": [
       "<Axes: >"
      ]
     },
     "execution_count": 47,
     "metadata": {},
     "output_type": "execute_result"
    },
    {
     "data": {
      "image/png": "[encoded data removed]",
      "text/plain": [
       "<Figure size 800x400 with 2 Axes>"
      ]
     },
     "metadata": {},
     "output_type": "display_data"
    }
   ],
   "source": [
    "fig, ax = plt.subplots(1,2,figsize=(8,4))\n",
    "kunming_gpd.plot(ax=ax[0], column='fid', cmap='cool')\n",
    "kunming_chenggong_gpd = kunming_gpd.iloc[6:7]\n",
    "kunming_chenggong_gpd.plot(ax=ax[1], color='green')\n"
   ]
  },
  {
   "cell_type": "markdown",
   "metadata": {},
   "source": [
    "#### **3. 写出矢量文件**"
   ]
  },
  {
   "cell_type": "markdown",
   "metadata": {},
   "source": [
    "#### 3.1 写出只含有特定字段(name)的矢量文件"
   ]
  },
  {
   "cell_type": "code",
   "execution_count": 53,
   "metadata": {},
   "outputs": [
    {
     "data": {
      "text/html": [
       "<div>\n",
       "<style scoped>\n",
       "    .dataframe tbody tr th:only-of-type {\n",
       "        vertical-align: middle;\n",
       "    }\n",
       "\n",
       "    .dataframe tbody tr th {\n",
       "        vertical-align: top;\n",
       "    }\n",
       "\n",
       "    .dataframe thead th {\n",
       "        text-align: right;\n",
       "    }\n",
       "</style>\n",
       "<table border=\"1\" class=\"dataframe\">\n",
       "  <thead>\n",
       "    <tr style=\"text-align: right;\">\n",
       "      <th></th>\n",
       "      <th>name</th>\n",
       "      <th>geometry</th>\n",
       "    </tr>\n",
       "  </thead>\n",
       "  <tbody>\n",
       "    <tr>\n",
       "      <th>0</th>\n",
       "      <td>昆明市</td>\n",
       "      <td>POLYGON ((102.23502 26.18850, 102.23516 26.188...</td>\n",
       "    </tr>\n",
       "    <tr>\n",
       "      <th>1</th>\n",
       "      <td>五华区</td>\n",
       "      <td>MULTIPOLYGON (((102.69718 25.38032, 102.69726 ...</td>\n",
       "    </tr>\n",
       "    <tr>\n",
       "      <th>2</th>\n",
       "      <td>盘龙区</td>\n",
       "      <td>POLYGON ((102.95160 25.25580, 102.94017 25.257...</td>\n",
       "    </tr>\n",
       "    <tr>\n",
       "      <th>3</th>\n",
       "      <td>官渡区</td>\n",
       "      <td>POLYGON ((102.71572 25.03637, 102.71646 25.036...</td>\n",
       "    </tr>\n",
       "    <tr>\n",
       "      <th>4</th>\n",
       "      <td>西山区</td>\n",
       "      <td>MULTIPOLYGON (((102.55894 25.16249, 102.58745 ...</td>\n",
       "    </tr>\n",
       "  </tbody>\n",
       "</table>\n",
       "</div>"
      ],
      "text/plain": [
       "  name                                           geometry\n",
       "0  昆明市  POLYGON ((102.23502 26.18850, 102.23516 26.188...\n",
       "1  五华区  MULTIPOLYGON (((102.69718 25.38032, 102.69726 ...\n",
       "2  盘龙区  POLYGON ((102.95160 25.25580, 102.94017 25.257...\n",
       "3  官渡区  POLYGON ((102.71572 25.03637, 102.71646 25.036...\n",
       "4  西山区  MULTIPOLYGON (((102.55894 25.16249, 102.58745 ..."
      ]
     },
     "execution_count": 53,
     "metadata": {},
     "output_type": "execute_result"
    }
   ],
   "source": [
    "kunming_out_1 = kunming_gpd[['name', 'geometry']]\n",
    "kunming_out_1.head()\n"
   ]
  },
  {
   "cell_type": "code",
   "execution_count": 54,
   "metadata": {},
   "outputs": [],
   "source": [
    "kunming_out_1.to_file(path_kunming_out_1)\n"
   ]
  },
  {
   "cell_type": "markdown",
   "metadata": {},
   "source": [
    "#### 3.1 写出只含有特定特征（呈贡区）矢量文件\n"
   ]
  },
  {
   "cell_type": "code",
   "execution_count": 75,
   "metadata": {},
   "outputs": [
    {
     "data": {
      "text/html": [
       "<div>\n",
       "<style scoped>\n",
       "    .dataframe tbody tr th:only-of-type {\n",
       "        vertical-align: middle;\n",
       "    }\n",
       "\n",
       "    .dataframe tbody tr th {\n",
       "        vertical-align: top;\n",
       "    }\n",
       "\n",
       "    .dataframe thead th {\n",
       "        text-align: right;\n",
       "    }\n",
       "</style>\n",
       "<table border=\"1\" class=\"dataframe\">\n",
       "  <thead>\n",
       "    <tr style=\"text-align: right;\">\n",
       "      <th></th>\n",
       "      <th>fid</th>\n",
       "      <th>name</th>\n",
       "      <th>site</th>\n",
       "      <th>geometry</th>\n",
       "    </tr>\n",
       "  </thead>\n",
       "  <tbody>\n",
       "    <tr>\n",
       "      <th>6</th>\n",
       "      <td>7.0</td>\n",
       "      <td>呈贡区</td>\n",
       "      <td>www.poi86.com</td>\n",
       "      <td>POLYGON ((102.85182 24.70104, 102.85030 24.701...</td>\n",
       "    </tr>\n",
       "  </tbody>\n",
       "</table>\n",
       "</div>"
      ],
      "text/plain": [
       "   fid name           site                                           geometry\n",
       "6  7.0  呈贡区  www.poi86.com  POLYGON ((102.85182 24.70104, 102.85030 24.701..."
      ]
     },
     "execution_count": 75,
     "metadata": {},
     "output_type": "execute_result"
    }
   ],
   "source": [
    "id_sel = np.where(kunming_gpd['name']=='呈贡区')[0]\n",
    "id_sel\n",
    "kunming_out_2 = kunming_gpd.iloc[id_sel]\n"
   ]
  },
  {
   "cell_type": "code",
   "execution_count": 76,
   "metadata": {},
   "outputs": [],
   "source": [
    "kunming_out_2.to_file(path_kunming_out_2)\n",
    "\n"
   ]
  },
  {
   "cell_type": "markdown",
   "metadata": {},
   "source": [
    "### 验证写出结果"
   ]
  },
  {
   "cell_type": "code",
   "execution_count": 84,
   "metadata": {},
   "outputs": [
    {
     "data": {
      "text/html": [
       "<div>\n",
       "<style scoped>\n",
       "    .dataframe tbody tr th:only-of-type {\n",
       "        vertical-align: middle;\n",
       "    }\n",
       "\n",
       "    .dataframe tbody tr th {\n",
       "        vertical-align: top;\n",
       "    }\n",
       "\n",
       "    .dataframe thead th {\n",
       "        text-align: right;\n",
       "    }\n",
       "</style>\n",
       "<table border=\"1\" class=\"dataframe\">\n",
       "  <thead>\n",
       "    <tr style=\"text-align: right;\">\n",
       "      <th></th>\n",
       "      <th>fid</th>\n",
       "      <th>name</th>\n",
       "      <th>site</th>\n",
       "      <th>geometry</th>\n",
       "    </tr>\n",
       "  </thead>\n",
       "  <tbody>\n",
       "    <tr>\n",
       "      <th>0</th>\n",
       "      <td>7.0</td>\n",
       "      <td>???</td>\n",
       "      <td>www.poi86.com</td>\n",
       "      <td>POLYGON ((102.85182 24.70104, 102.85030 24.701...</td>\n",
       "    </tr>\n",
       "  </tbody>\n",
       "</table>\n",
       "</div>"
      ],
      "text/plain": [
       "   fid name           site                                           geometry\n",
       "0  7.0  ???  www.poi86.com  POLYGON ((102.85182 24.70104, 102.85030 24.701..."
      ]
     },
     "execution_count": 84,
     "metadata": {},
     "output_type": "execute_result"
    }
   ],
   "source": [
    "kunming_out_2 = gpd.read_file(path_kunming_out_2)\n",
    "kunming_out_2\n"
   ]
  },
  {
   "cell_type": "code",
   "execution_count": null,
   "metadata": {},
   "outputs": [],
   "source": [
    "\n",
    "\n",
    "\n",
    "\n"
   ]
  }
 ],
 "metadata": {
  "kernelspec": {
   "display_name": "venv",
   "language": "python",
   "name": "python3"
  },
  "language_info": {
   "codemirror_mode": {
    "name": "ipython",
    "version": 3
   },
   "file_extension": ".py",
   "mimetype": "text/x-python",
   "name": "python",
   "nbconvert_exporter": "python",
   "pygments_lexer": "ipython3",
   "version": "3.9.15"
  },
  "orig_nbformat": 4
 },
 "nbformat": 4,
 "nbformat_minor": 2
}
