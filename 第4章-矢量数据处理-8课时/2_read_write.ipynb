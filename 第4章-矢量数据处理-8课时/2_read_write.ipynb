{
 "cells": [
  {
   "attachments": {},
   "cell_type": "markdown",
   "metadata": {},
   "source": [
    "## **利用ogr开源库进行矢量文件的读写**\n"
   ]
  },
  {
   "cell_type": "code",
   "execution_count": 25,
   "metadata": {},
   "outputs": [],
   "source": [
    "from osgeo import ogr\n"
   ]
  },
  {
   "attachments": {},
   "cell_type": "markdown",
   "metadata": {},
   "source": [
    "#### **1. 用python读入矢量文件**"
   ]
  },
  {
   "cell_type": "code",
   "execution_count": 26,
   "metadata": {},
   "outputs": [],
   "source": [
    "path_kunming = 'data/昆明市行政边界(poi86.com)/昆明市边界_wgs84.shp'\n",
    "path_kunming_out_1 = 'data/Section_4/vector_out_1.shp'\n",
    "path_kunming_out_2 = 'data/Section_4/vector_out_2.shp'\n"
   ]
  },
  {
   "cell_type": "code",
   "execution_count": 27,
   "metadata": {},
   "outputs": [
    {
     "name": "stdout",
     "output_type": "stream",
     "text": [
      "Number of feature:  15\n",
      "Number of fields: 3\n"
     ]
    }
   ],
   "source": [
    "### 读入矢量文件\n",
    "ds = ogr.Open(path_kunming, 0) #0是只读，1是可写\n",
    "layer = ds.GetLayer(0)  # 获取矢量文件Layer\n",
    "num_fea = layer.GetFeatureCount()   ## 统计要素个数\n",
    "print('Number of feature: ', num_fea)\n",
    "num_field = layer.GetFeature(0).GetFieldCount()   ## 统计字数个数\n",
    "print('Number of fields:', num_field)\n"
   ]
  },
  {
   "attachments": {},
   "cell_type": "markdown",
   "metadata": {},
   "source": [
    "#### **2.查看矢量文件字段**"
   ]
  },
  {
   "cell_type": "code",
   "execution_count": 28,
   "metadata": {},
   "outputs": [
    {
     "name": "stdout",
     "output_type": "stream",
     "text": [
      "['fid', 'name', 'site']\n"
     ]
    }
   ],
   "source": [
    "### 查看字段名\n",
    "fields = []\n",
    "fea = layer.GetFeature(0)\n",
    "for i in range(0, num_field):\n",
    "    field = fea.GetFieldDefnRef(i).name\n",
    "    fields.append(field)\n",
    "print(fields)\n"
   ]
  },
  {
   "cell_type": "code",
   "execution_count": 29,
   "metadata": {},
   "outputs": [
    {
     "name": "stdout",
     "output_type": "stream",
     "text": [
      "Filed value:  五华区\n",
      "昆明市\n",
      "五华区\n",
      "盘龙区\n",
      "官渡区\n",
      "西山区\n",
      "东川区\n",
      "呈贡区\n",
      "晋宁区\n",
      "富民县\n",
      "宜良县\n",
      "石林彝族自治县\n",
      "嵩明县\n",
      "禄劝彝族苗族自治县\n",
      "寻甸回族彝族自治县\n",
      "安宁市\n"
     ]
    }
   ],
   "source": [
    "### 查看字段值\n",
    "field_name = 'name'\n",
    "fea = layer.GetFeature(1)\n",
    "print('Filed value: ',fea.GetField(field_name))\n",
    "### 获得所有要素的字段值\n",
    "for fea in layer:   ## \n",
    "  print(fea.GetField(field_name))\n"
   ]
  },
  {
   "attachments": {},
   "cell_type": "markdown",
   "metadata": {},
   "source": [
    "#### **3. 写出矢量文件**"
   ]
  },
  {
   "attachments": {},
   "cell_type": "markdown",
   "metadata": {},
   "source": [
    "#### 3.1 写出只含有特定字段的矢量文件"
   ]
  },
  {
   "cell_type": "code",
   "execution_count": 30,
   "metadata": {},
   "outputs": [],
   "source": [
    "field_name = 'fid'\n",
    "ds = ogr.Open(path_kunming, 0)  # 0是只读，1是可写\n",
    "layer = ds.GetLayer()    # 获取矢量文件图层Layer\n",
    "driver = ogr.GetDriverByName('ESRI Shapefile')   ## 文件驱动（用于写出文件）\n",
    "ds_out = driver.CreateDataSource(path_kunming_out_1)  ## 创建数据源DataSource\n",
    "layer_out = ds_out.CreateLayer('vector_new_1', geom_type=ogr.wkbPolygon, srs=layer.GetSpatialRef())\n",
    "field_defn = ogr.FieldDefn(field_name, ogr.OFTReal)   ## 定义字段\n",
    "layer_out.CreateField(field_defn)    ## 新建字段\n",
    "# fea_defn = layer_out.GetFeature(0).GetDefnRef()    ## layer_out没有要素，故.GetFeature(0)会报错\n",
    "fea_defn = layer_out.GetLayerDefn()   ## 获得特征定义，用于特征\n",
    "### 创建要素（将复制‘昆明市边界_wgs84.shp’文件中要素)\n",
    "for fea in layer:\n",
    "    geo = fea.geometry()         ## 获得原矢量要素的几何\n",
    "    fea_out = ogr.Feature(fea_defn)\n",
    "    fea_out.SetGeometry(geo)\n",
    "    fea_out.SetField(field_name, fea.GetField(field_name))\n",
    "    layer_out.CreateFeature(fea_out)\n",
    "ds_out = None       #  ### 保存/关闭 DataSource (!重要)\n"
   ]
  },
  {
   "attachments": {},
   "cell_type": "markdown",
   "metadata": {},
   "source": [
    "#### 3.2 写出只含有呈贡区的矢量文件\n"
   ]
  },
  {
   "cell_type": "code",
   "execution_count": 31,
   "metadata": {},
   "outputs": [
    {
     "name": "stdout",
     "output_type": "stream",
     "text": [
      "Number of fields (before field creating):  0\n",
      "Number of fields (after field creating):  3\n"
     ]
    },
    {
     "name": "stderr",
     "output_type": "stream",
     "text": [
      "Warning 1: One or several characters couldn't be converted correctly from UTF-8 to ISO-8859-1.  This warning will not be emitted anymore.\n"
     ]
    }
   ],
   "source": [
    "ds = ogr.Open(path_kunming, 0) # 0是只读，1是可写\n",
    "layer = ds.GetLayer('昆明市边界_wgs84')   # 获取矢量文件Layer\n",
    "driver = ogr.GetDriverByName('ESRI Shapefile')\n",
    "ds_out = driver.CreateDataSource(path_kunming_out_2)\n",
    "layer_out = ds_out.CreateLayer('vector_new_2', geom_type=ogr.wkbPolygon, srs=layer.GetSpatialRef())\n",
    "fea_defn = layer_out.GetLayerDefn()   ## 获得空要素定义(或空图层定义)\n",
    "\n",
    "### 创建字段\n",
    "layer_defn = layer_out.GetLayerDefn()\n",
    "print('Number of fields (before field creating): ', layer_defn.GetFieldCount())  ### 字段创建前字段数\n",
    "fea = layer.GetFeature(0)\n",
    "for i in range(fea.GetFieldCount()):\n",
    "  field_defn = fea.GetFieldDefnRef(i)\n",
    "  layer_out.CreateField(field_defn)\n",
    "layer_defn = layer_out.GetLayerDefn()\n",
    "print('Number of fields (after field creating): ', layer_defn.GetFieldCount())\n",
    "\n",
    "### 创建要素（复制‘昆明市边界_wgs84.shp’文件中要素)\n",
    "for fea in layer:\n",
    "  if fea.GetField('name') == '呈贡区':\n",
    "    fea_out = ogr.Feature(fea_defn)\n",
    "    fea_out.SetGeometry(fea.geometry())\n",
    "    for i in range(fea.GetFieldCount()):\n",
    "      field_value = fea.GetField(i)\n",
    "      fea_out.SetField(i, field_value)\n",
    "    layer_out.CreateFeature(fea_out)\n",
    "ds_out = None        #  ### 保存/关闭 DataSource (重要)\n",
    "\n"
   ]
  },
  {
   "cell_type": "markdown",
   "metadata": {},
   "source": [
    "### 作业：写出只含五华区、盘龙区、西山区、官渡区、呈贡区的矢量文件。"
   ]
  }
 ],
 "metadata": {
  "kernelspec": {
   "display_name": "venv",
   "language": "python",
   "name": "python3"
  },
  "language_info": {
   "codemirror_mode": {
    "name": "ipython",
    "version": 3
   },
   "file_extension": ".py",
   "mimetype": "text/x-python",
   "name": "python",
   "nbconvert_exporter": "python",
   "pygments_lexer": "ipython3",
   "version": "3.9.15"
  },
  "orig_nbformat": 4
 },
 "nbformat": 4,
 "nbformat_minor": 2
}
